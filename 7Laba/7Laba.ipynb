{
 "cells": [
  {
   "cell_type": "code",
   "execution_count": 65,
   "metadata": {},
   "outputs": [],
   "source": [
    "import seaborn as sns\n",
    "import numpy as np\n",
    "import pandas as pd\n",
    "import matplotlib.pyplot as plt\n",
    "import numpy as np\n",
    "from math import sqrt\n"
   ]
  },
  {
   "cell_type": "code",
   "execution_count": 66,
   "metadata": {},
   "outputs": [
    {
     "name": "stdout",
     "output_type": "stream",
     "text": [
      "6\n"
     ]
    }
   ],
   "source": [
    "gr1=[139,184,85,112,134,121]\n",
    "gr2=[137,175,94,103,142,101]\n",
    "Frame = pd.DataFrame({\n",
    "    \"gr1\":gr1,\n",
    "    \"gr2\":gr2\n",
    "})\n",
    "print(len(gr1))"
   ]
  },
  {
   "cell_type": "code",
   "execution_count": 67,
   "metadata": {},
   "outputs": [
    {
     "data": {
      "text/plain": [
       "<matplotlib.axes._subplots.AxesSubplot at 0x2076f5f5a88>"
      ]
     },
     "execution_count": 67,
     "metadata": {},
     "output_type": "execute_result"
    },
    {
     "data": {
      "image/png": "[encoded data removed]",
      "text/plain": [
       "<Figure size 1440x360 with 1 Axes>"
      ]
     },
     "metadata": {
      "needs_background": "light"
     },
     "output_type": "display_data"
    }
   ],
   "source": [
    "plt.subplots(figsize=(20,5))\n",
    "sns.boxplot(orient = \"h\",data = Frame)"
   ]
  },
  {
   "cell_type": "code",
   "execution_count": 68,
   "metadata": {},
   "outputs": [],
   "source": [
    "def sd(arr,k):\n",
    "    suma = 0\n",
    "    mean = (sum(arr)) / k\n",
    "    \n",
    "    for i in range (k):\n",
    "        suma += ((arr[i] - mean))**2\n",
    "        \n",
    "    return suma / (k- 1)\n"
   ]
  },
  {
   "cell_type": "code",
   "execution_count": 69,
   "metadata": {},
   "outputs": [],
   "source": [
    "def liv(a,b):\n",
    "    s1=sd(a,len(a))\n",
    "    s2=sd(b,len(b))\n",
    "    if s1>s2:\n",
    "        livCriteria=s1/s2\n",
    "    else:\n",
    "        livCriteria=s2/s1\n",
    "    print('F = ' + str(livCriteria))\n",
    "    print('df1 = ' + str(len(a)-1))\n",
    "    print(\"df2 = \" + str(len(b)-1))\n",
    "    criticalLivCriteria = pd.read_excel(\"Таблиця критичних значень для критерію Лівеня.xlsx\").iloc[len(a)-1,len(b)-1]\n",
    "    print(\"Critical F(from table)=\" + str(criticalLivCriteria))\n",
    "    if livCriteria<criticalLivCriteria:\n",
    "        return \"insignificant\"\n",
    "    else:\n",
    "        return \"significant\"\n",
    "\n",
    "    "
   ]
  },
  {
   "cell_type": "code",
   "execution_count": 70,
   "metadata": {},
   "outputs": [
    {
     "name": "stdout",
     "output_type": "stream",
     "text": [
      "F = 1.0980148048452223\n",
      "df1 = 5\n",
      "df2 = 5\n",
      "Critical F(from table)=5.05\n"
     ]
    },
    {
     "data": {
      "text/plain": [
       "'insignificant'"
      ]
     },
     "execution_count": 70,
     "metadata": {},
     "output_type": "execute_result"
    }
   ],
   "source": [
    "liv(gr1,gr2)"
   ]
  },
  {
   "cell_type": "code",
   "execution_count": 73,
   "metadata": {},
   "outputs": [],
   "source": [
    "def Tcrit(a,b,flag):\n",
    "    if flag==\"significant\":\n",
    "        s1=sd(a,len(a))\n",
    "        s2=sd(b,len(b))\n",
    "        m1=sum(a)/len(a)\n",
    "        m2=sum(b)/len(a)\n",
    "        Tcrit=len(a)+len(b)-2\n",
    "        t=(abs(m1-m2))/(sqrt((s1/len(a))+(s2/len(b))))\n",
    "    if flag==\"insignificant\":\n",
    "        s1=sd(a,len(a))\n",
    "        s2=sd(b,len(b))\n",
    "        m1=sum(a)/len(a)\n",
    "        m2=sum(b)/len(a)\n",
    "        df1=len(a)-1\n",
    "        df2=len(b)-1\n",
    "        df=len(a)+len(b)-2\n",
    "        k=(1/len(a))+(1/len(b))\n",
    "        t=(abs(m1-m2))/(sqrt(((df1*s1+df2*s2)/df)*k))\n",
    "    else:\n",
    "        return \"wrong flag inp\"\n",
    "    print('t = ' + str(t),'\\t df = ' + str(df))\n",
    "    tableCrit = pd.read_excel(\"Таблиця критичних значень для критерію Стьюдента.xlsx\").iloc[df-1,1]\n",
    "    print(\"Critical Student's criteria = \" + str(tableCrit))\n",
    "    if t<tableCrit:\n",
    "        return\"significant\"\n",
    "    else:\n",
    "        return\"insignificant\""
   ]
  },
  {
   "cell_type": "code",
   "execution_count": 74,
   "metadata": {},
   "outputs": [
    {
     "name": "stdout",
     "output_type": "stream",
     "text": [
      "t = 0.20596060618987902 \t df = 10\n",
      "Critical student criteria = 2.228\n"
     ]
    },
    {
     "data": {
      "text/plain": [
       "'significant'"
      ]
     },
     "execution_count": 74,
     "metadata": {},
     "output_type": "execute_result"
    }
   ],
   "source": [
    "Tcrit(gr1,gr2,\"insignificant\")"
   ]
  },
  {
   "cell_type": "code",
   "execution_count": null,
   "metadata": {},
   "outputs": [],
   "source": []
  },
  {
   "cell_type": "code",
   "execution_count": null,
   "metadata": {},
   "outputs": [],
   "source": []
  }
 ],
 "metadata": {
  "kernelspec": {
   "display_name": "Python 3",
   "language": "python",
   "name": "python3"
  }
 },
 "nbformat": 4,
 "nbformat_minor": 2
}
