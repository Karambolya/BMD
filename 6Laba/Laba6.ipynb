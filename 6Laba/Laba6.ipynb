{
 "cells": [
  {
   "cell_type": "code",
   "execution_count": 183,
   "metadata": {},
   "outputs": [],
   "source": [
    "import seaborn as sns\n",
    "import pandas as pd\n",
    "from math import sqrt\n",
    "\n",
    "import matplotlib.pyplot as plt\n",
    "import numpy as np\n",
    "import os"
   ]
  },
  {
   "cell_type": "code",
   "execution_count": 184,
   "metadata": {},
   "outputs": [
    {
     "name": "stdout",
     "output_type": "stream",
     "text": [
      "0    grad1\n",
      "1    grad2\n",
      "2    grad3\n",
      "3    grad4\n",
      "4    grad5\n",
      "5    grad6\n",
      "Name: gradations, dtype: object\n"
     ]
    }
   ],
   "source": [
    "Frame = pd.DataFrame({\n",
    "    \"gradations\":[\"grad1\", \"grad2\", \"grad3\", \"grad4\", \"grad5\",\"grad6\"],\n",
    "    \"gr1\":[143,220,85,101,134,59],\n",
    "    \"gr2\":[161,242,94,98,153,86]\n",
    "})"
   ]
  },
  {
   "cell_type": "code",
   "execution_count": 185,
   "metadata": {},
   "outputs": [
    {
     "data": {
      "text/plain": [
       "<matplotlib.axes._subplots.AxesSubplot at 0x1b7fd705048>"
      ]
     },
     "execution_count": 185,
     "metadata": {},
     "output_type": "execute_result"
    },
    {
     "data": {
      "image/png": "[encoded data removed]",
      "text/plain": [
       "<Figure size 1440x360 with 1 Axes>"
      ]
     },
     "metadata": {
      "needs_background": "light"
     },
     "output_type": "display_data"
    }
   ],
   "source": [
    "plt.subplots(figsize=(20,5))\n",
    "sns.boxplot(orient = \"h\",data = Frame)\n"
   ]
  },
  {
   "cell_type": "code",
   "execution_count": 186,
   "metadata": {},
   "outputs": [],
   "source": [
    "def pirs(Frame):\n",
    "    k=Frame.shape[0]\n",
    "    i = 0\n",
    "    Rcriteria = 0\n",
    "    df = k-2\n",
    "    up = (k*pd.Series(Frame[Frame.keys()[1]]*Frame[Frame.keys()[2]]).sum())-(pd.Series(Frame[Frame.keys()[1]]).sum()*pd.Series(Frame[Frame.keys()[2]])).sum()\n",
    "    down = sqrt(((k*pd.Series(Frame[Frame.keys()[1]]**2).sum())-(pd.Series(Frame[Frame.keys()[1]]).sum()**2))*\n",
    "                         ((k*pd.Series(Frame[Frame.keys()[2]]**2).sum())-(pd.Series(Frame[Frame.keys()[2]]).sum()**2)))\n",
    "    r = up/down\n",
    "    tablecorrelation = pd.read_excel(\"cor.xlsx\")\n",
    "    while ((i < len(tablecorrelation)-1) and (df > tablecorrelation.iloc[i,0])):\n",
    "        Rcriteria = tablecorrelation.iloc[i,1]\n",
    "        i += 1\n",
    "    if (df < tablecorrelation.iloc[i-1,0]):\n",
    "        if (abs(df-tablecorrelation.iloc[i-1,0]) > abs(df-tablecorrelatiob.iloc[i,0])):\n",
    "            Rcriteria = tablecorrelation.iloc[i,1]\n",
    "    if abs(r) > Rcriteria:\n",
    "        return r, df, \"significant\"\n",
    "    else:\n",
    "        \"insignificant\""
   ]
  },
  {
   "cell_type": "code",
   "execution_count": 187,
   "metadata": {},
   "outputs": [],
   "source": [
    "def student(Frame):\n",
    "    tableVal=0\n",
    "    i=0\n",
    "    k=Frame.shape[0]\n",
    "    df=k-1\n",
    "    up = (Frame[Frame.keys()[1]]-Frame[Frame.keys()[2]]).mean()\n",
    "    down=(Frame[Frame.keys()[1]]-Frame[Frame.keys()[2]]).std()\n",
    "    t=(up/down)*sqrt(k)\n",
    "    studentCrit=pd.read_excel(\"crit.xlsx\")\n",
    "    while ((i < len(studentCrit)-1) and (df > studentCrit.iloc[i,0])):\n",
    "        t_table = studentCrit.iloc[i,1]\n",
    "        i += 1\n",
    "    if (abs(df-studentCrit.iloc[i-1,0]) > abs(df-studentCrit.iloc[i,0])):\n",
    "        t_table = studentCrit.iloc[i,1]\n",
    "    if abs(t) > t_table:\n",
    "        return t, df, \"significant\"\n",
    "    else:\n",
    "        return \"insignificant\""
   ]
  },
  {
   "cell_type": "code",
   "execution_count": 188,
   "metadata": {},
   "outputs": [
    {
     "data": {
      "text/plain": [
       "(0.9843803120461528, 4, 'significant')"
      ]
     },
     "execution_count": 188,
     "metadata": {},
     "output_type": "execute_result"
    }
   ],
   "source": [
    "\n",
    "pirs(Frame)"
   ]
  },
  {
   "cell_type": "code",
   "execution_count": 189,
   "metadata": {},
   "outputs": [
    {
     "data": {
      "text/plain": [
       "(-3.495295419457998, 5, 'significant')"
      ]
     },
     "execution_count": 189,
     "metadata": {},
     "output_type": "execute_result"
    }
   ],
   "source": [
    "student(Frame)"
   ]
  },
  {
   "cell_type": "markdown",
   "metadata": {},
   "source": [
    "Висновок: присутній статистичний зв'язок, але ці величини є випадковими, тому такий зв'язок є повністю випадковим"
   ]
  },
  {
   "cell_type": "code",
   "execution_count": null,
   "metadata": {},
   "outputs": [],
   "source": []
  },
  {
   "cell_type": "code",
   "execution_count": null,
   "metadata": {},
   "outputs": [],
   "source": []
  }
 ],
 "metadata": {
  "kernelspec": {
   "display_name": "Python 3",
   "language": "python",
   "name": "python3"
  },
  "language_info": {
   "codemirror_mode": {
    "name": "ipython",
    "version": 3
   },
   "file_extension": ".py",
   "mimetype": "text/x-python",
   "name": "python",
   "nbconvert_exporter": "python",
   "pygments_lexer": "ipython3",
   "version": "3.7.4"
  }
 },
 "nbformat": 4,
 "nbformat_minor": 2
}
