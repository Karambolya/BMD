{
 "cells": [
  {
   "cell_type": "code",
   "execution_count": 57,
   "metadata": {},
   "outputs": [
    {
     "data": {
      "text/html": [
       "<div>\n",
       "<style scoped>\n",
       "    .dataframe tbody tr th:only-of-type {\n",
       "        vertical-align: middle;\n",
       "    }\n",
       "\n",
       "    .dataframe tbody tr th {\n",
       "        vertical-align: top;\n",
       "    }\n",
       "\n",
       "    .dataframe thead th {\n",
       "        text-align: right;\n",
       "    }\n",
       "</style>\n",
       "<table border=\"1\" class=\"dataframe\">\n",
       "  <thead>\n",
       "    <tr style=\"text-align: right;\">\n",
       "      <th></th>\n",
       "      <th>gradations</th>\n",
       "      <th>gr1</th>\n",
       "      <th>gr2</th>\n",
       "    </tr>\n",
       "  </thead>\n",
       "  <tbody>\n",
       "    <tr>\n",
       "      <td>0</td>\n",
       "      <td>grad1</td>\n",
       "      <td>100</td>\n",
       "      <td>30</td>\n",
       "    </tr>\n",
       "    <tr>\n",
       "      <td>1</td>\n",
       "      <td>grad2</td>\n",
       "      <td>23</td>\n",
       "      <td>21</td>\n",
       "    </tr>\n",
       "    <tr>\n",
       "      <td>2</td>\n",
       "      <td>grad3</td>\n",
       "      <td>68</td>\n",
       "      <td>59</td>\n",
       "    </tr>\n",
       "    <tr>\n",
       "      <td>3</td>\n",
       "      <td>grad4</td>\n",
       "      <td>49</td>\n",
       "      <td>51</td>\n",
       "    </tr>\n",
       "    <tr>\n",
       "      <td>4</td>\n",
       "      <td>grad5</td>\n",
       "      <td>38</td>\n",
       "      <td>77</td>\n",
       "    </tr>\n",
       "    <tr>\n",
       "      <td>5</td>\n",
       "      <td>grad6</td>\n",
       "      <td>79</td>\n",
       "      <td>15</td>\n",
       "    </tr>\n",
       "  </tbody>\n",
       "</table>\n",
       "</div>"
      ],
      "text/plain": [
       "  gradations  gr1  gr2\n",
       "0      grad1  100   30\n",
       "1      grad2   23   21\n",
       "2      grad3   68   59\n",
       "3      grad4   49   51\n",
       "4      grad5   38   77\n",
       "5      grad6   79   15"
      ]
     },
     "execution_count": 57,
     "metadata": {},
     "output_type": "execute_result"
    }
   ],
   "source": [
    "import pandas as pd\n",
    "import matplotlib.pyplot as plt\n",
    "import numpy as np\n",
    "import os\n",
    "Frame = pd.DataFrame({\n",
    "    \"gradations\":[\"grad1\", \"grad2\", \"grad3\", \"grad4\", \"grad5\",\"grad6\"],\n",
    "    \"gr1\":[100,23,68,49,38,79],\n",
    "    \"gr2\":[30,21,59,51,77,15]\n",
    "})\n",
    "Frame"
   ]
  },
  {
   "cell_type": "code",
   "execution_count": 58,
   "metadata": {},
   "outputs": [
    {
     "data": {
      "text/plain": [
       "Text(0, 0.5, 'gr2')"
      ]
     },
     "execution_count": 58,
     "metadata": {},
     "output_type": "execute_result"
    },
    {
     "data": {
      "image/png": "[encoded data removed]",
      "text/plain": [
       "<Figure size 432x288 with 2 Axes>"
      ]
     },
     "metadata": {
      "needs_background": "light"
     },
     "output_type": "display_data"
    }
   ],
   "source": [
    "plt.subplot(1,2,1)\n",
    "plt.plot(Frame[\"gr1\"], color='r')\n",
    "plt.xlabel(\"gradations\")\n",
    "plt.ylabel(\"gr1\")\n",
    "\n",
    "plt.subplot(1,2,2)\n",
    "plt.plot(Frame[\"gr2\"],color='b')\n",
    "plt.xlabel(\"gradations\")\n",
    "plt.ylabel(\"gr2\")\n"
   ]
  },
  {
   "cell_type": "code",
   "execution_count": 59,
   "metadata": {},
   "outputs": [
    {
     "name": "stdout",
     "output_type": "stream",
     "text": [
      "  gradations  gr1  gr2\n",
      "0      grad1  100   30\n",
      "CA 15.1\n"
     ]
    }
   ],
   "source": [
    "x=(Frame.iloc[:1])\n",
    "print (x)\n",
    "level=0.01\n",
    "c = pd.read_excel(\"pirs.xlsx\").iloc[Frame.shape[0]-1, 1 if(level == 0.01) else 2]\n",
    "print(\"CA\",c)"
   ]
  },
  {
   "cell_type": "code",
   "execution_count": 72,
   "metadata": {},
   "outputs": [],
   "source": [
    "    def pirs(significance_lvl,Frame):\n",
    "        empiricalVal=0\n",
    "        if sum(Frame[Frame.keys()[1]]) == sum(Frame[Frame.keys()[2]]):\n",
    "            for i in range((Frame.shape[0])):\n",
    "                nij=((Frame[Frame.keys()[1]][i]-Frame[Frame.keys()[2]][i])**2)/Frame[Frame.keys()[2]][i]\n",
    "                empiricalVal+=nij\n",
    "        else:\n",
    "            for i in range((Frame.shape[0])):\n",
    "                Frame[Frame.keys()[1]][i] = (Frame[Frame.keys()[1]][i]/sum(Frame[Frame.keys()[1]])) * sum(Frame[Frame.keys()[2]])\n",
    "                nij=((Frame[Frame.keys()[1]][i]-Frame[Frame.keys()[2]][i])**2)/Frame[Frame.keys()[2]][i]\n",
    "                empiricalVal+=nij\n",
    "        tableVal = pd.read_excel(\"pirs.xlsx\").iloc[Frame.shape[0]-1, 1 if(significance_lvl == 0.01) else 2]\n",
    "        print(\"Xemp^2=\",empiricalVal,\"\\t\",\"Xcritical^2=\",tableVal)\n",
    "        if(tableVal<empiricalVal):\n",
    "            return (\"Немає статичної розбіжності\")\n",
    "        else:\n",
    "            return(\"Є Статична робіжність\")\n",
    "        "
   ]
  },
  {
   "cell_type": "code",
   "execution_count": 73,
   "metadata": {},
   "outputs": [],
   "source": [
    "Frame[\"Percents for gr1\"]=[Frame[Frame.keys()[1]][i]/sum(Frame[Frame.keys()[1]])*100 for i in range(Frame.shape[0])]\n",
    "Frame[\"Percents for gr2\"]=[Frame[Frame.keys()[2]][i]/sum(Frame[Frame.keys()[2]])*100 for i in range(Frame.shape[0])]"
   ]
  },
  {
   "cell_type": "code",
   "execution_count": 74,
   "metadata": {},
   "outputs": [
    {
     "name": "stdout",
     "output_type": "stream",
     "text": [
      "Xemp^2= 230.1449634399214 \t Xcritical^2= 15.1\n"
     ]
    },
    {
     "data": {
      "text/plain": [
       "'Немає статичної розбіжності'"
      ]
     },
     "execution_count": 74,
     "metadata": {},
     "output_type": "execute_result"
    }
   ],
   "source": [
    "pirs(0.01,Frame)"
   ]
  },
  {
   "cell_type": "code",
   "execution_count": null,
   "metadata": {},
   "outputs": [],
   "source": []
  },
  {
   "cell_type": "code",
   "execution_count": null,
   "metadata": {},
   "outputs": [],
   "source": []
  }
 ],
 "metadata": {
  "kernelspec": {
   "display_name": "Python 3",
   "language": "python",
   "name": "python3"
  },
  "language_info": {
   "codemirror_mode": {
    "name": "ipython",
    "version": 3
   },
   "file_extension": ".py",
   "mimetype": "text/x-python",
   "name": "python",
   "nbconvert_exporter": "python",
   "pygments_lexer": "ipython3",
   "version": "3.7.4"
  }
 },
 "nbformat": 4,
 "nbformat_minor": 2
}
